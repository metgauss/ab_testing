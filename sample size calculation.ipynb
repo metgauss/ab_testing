{
 "cells": [
  {
   "cell_type": "raw",
   "metadata": {},
   "source": []
  },
  {
   "cell_type": "code",
   "execution_count": null,
   "metadata": {},
   "outputs": [],
   "source": []
  },
  {
   "cell_type": "markdown",
   "metadata": {},
   "source": [
    "<center>\n",
    "<p>\n",
    "    <center>\n",
    "    <b>CALCULADORAS PARA TAMAÑO MUESTRAL</b> \n",
    "    </center>\n",
    "</p>\n"
   ]
  },
  {
   "cell_type": "markdown",
   "metadata": {},
   "source": [
    "\n",
    "<div class=\"alert alert-block alert-info\" style=\"margin-top: 20px\">\n",
    "<p>\n",
    "    <b>Calculo tamaño muestral para PROPORCIONES.</b>\n",
    "     Enlaces a la documentación de referencia:\n",
    "       <li><a href=\"http://jpktd.blogspot.com/2013/03/statistical-power-in-statsmodels.html\">Statistical Power in Statsmodels</a>\n",
    "       <li><a href=\"https://towardsdatascience.com/ab-testing-with-python-e5964dd66143\">A/B testing: A step-by-step guide in Python</a></li>    \n",
    "    \n",
    "</p>\n",
    "</div>\n",
    "\n"
   ]
  },
  {
   "cell_type": "code",
   "execution_count": 124,
   "metadata": {},
   "outputs": [
    {
     "name": "stdout",
     "output_type": "stream",
     "text": [
      "El tamaño muestral requerido por variante es: 453056\n"
     ]
    }
   ],
   "source": [
    "# Packages imports\n",
    "import numpy as np\n",
    "import pandas as pd\n",
    "import scipy.stats as stats\n",
    "import statsmodels.stats.api as sms\n",
    "import matplotlib as mpl\n",
    "import matplotlib.pyplot as plt\n",
    "import seaborn as sns\n",
    "from math import ceil\n",
    "\n",
    "%matplotlib inline\n",
    "\n",
    "# Some plot styling preferences\n",
    "plt.style.use('seaborn-whitegrid')\n",
    "font = {'family' : 'Helvetica',\n",
    "        'weight' : 'bold',\n",
    "        'size'   : 14}\n",
    "\n",
    "mpl.rc('font', **font)\n",
    "effect_size = sms.proportion_effectsize(0.0140, 0.0147)    # Calculating effect size based on our expected rates\n",
    "\n",
    "# Calculating sample size needed\n",
    "required_n = sms.NormalIndPower().solve_power(effect_size, \n",
    "                                              power=0.8, \n",
    "                                              alpha=0.05, \n",
    "                                              ratio=1)                                                  \n",
    "\n",
    "# Rounding up to next whole number    \n",
    "\n",
    "required_n = ceil(required_n)     \n",
    "\n",
    "print(\"El tamaño muestral requerido por variante es: \"+str(round(required_n)))\n",
    "                      "
   ]
  },
  {
   "cell_type": "markdown",
   "metadata": {},
   "source": [
    "\n",
    "<div class=\"alert alert-block alert-info\" style=\"margin-top: 20px\">\n",
    "<p>\n",
    "    <b>Calculo tamaño muestral para PROMEDIOS.</b>\n",
    "     Enlaces a la documentación de referencia:\n",
    "       <li><a href=\"https://pages.github.mpi-internal.com/data-and-insight/tutorial_sample_size/Power%20Analysis%20in%20Python%20-%20test%20case.html\">Sample Size tutorial</a>\n",
    "       \n",
    "    \n",
    "</p>\n",
    "</div>\n",
    "\n"
   ]
  },
  {
   "cell_type": "code",
   "execution_count": 121,
   "metadata": {},
   "outputs": [],
   "source": [
    "## import function\n",
    "import numpy as np\n",
    "import pandas as pd\n",
    "\n",
    "from statsmodels.stats.power import TTestIndPower\n",
    "from scipy.stats import ttest_ind,norm, zscore\n",
    "\n",
    "import seaborn as sns\n",
    "import matplotlib.pyplot as plt\n"
   ]
  },
  {
   "cell_type": "code",
   "execution_count": 125,
   "metadata": {},
   "outputs": [
    {
     "name": "stdout",
     "output_type": "stream",
     "text": [
      "El tamaño muestral requerido por variante es: 158001\n"
     ]
    }
   ],
   "source": [
    "#Ex using the stats package\n",
    "mu=4.61\n",
    "perc_increase = 0.02\n",
    "p = 0.8\n",
    "sigma=9.25\n",
    "sig=0.05\n",
    "diff_mu = (1+perc_increase)*mu - mu\n",
    "size = diff_mu/sigma\n",
    "\n",
    "n=TTestIndPower().solve_power(effect_size = size, \n",
    "                              power = p, \n",
    "                              alpha = sig)\n",
    "\n",
    "print(\"El tamaño muestral requerido por variante es: \"+str(round(n)))"
   ]
  },
  {
   "cell_type": "code",
   "execution_count": null,
   "metadata": {},
   "outputs": [],
   "source": []
  }
 ],
 "metadata": {
  "kernelspec": {
   "display_name": "Python 3",
   "language": "python",
   "name": "python3"
  },
  "language_info": {
   "codemirror_mode": {
    "name": "ipython",
    "version": 3
   },
   "file_extension": ".py",
   "mimetype": "text/x-python",
   "name": "python",
   "nbconvert_exporter": "python",
   "pygments_lexer": "ipython3",
   "version": "3.8.5"
  }
 },
 "nbformat": 4,
 "nbformat_minor": 4
}
